{
 "cells": [
  {
   "cell_type": "markdown",
   "metadata": {},
   "source": [
    "## Top Combo Gene Sets"
   ]
  },
  {
   "cell_type": "code",
   "execution_count": 3,
   "metadata": {},
   "outputs": [
    {
     "name": "stdout",
     "output_type": "stream",
     "text": [
      "Average AUC\tGene Set\t% Time in Top 10\n",
      "\n",
      "77.1302790259\tCAHOY_NEURONAL\t0.98\n",
      "75.1304931068\tCTIP\t0.92\n",
      "73.1493753541\tCAHOY_OLIGODENDROCUTIC\t0.89\n",
      "71.421604615\tKRAS.600\t0.78\n",
      "70.8841875869\tBRCA1\t0.71\n",
      "69.3725070208\tKRAS.50\t0.49\n",
      "69.0177620544\tCSR_EARLY\t0.62\n",
      "68.2733614778\tKRAS.AMP.LUNG\t0.52\n",
      "67.5046704261\tE2F1\t0.51\n",
      "66.3999153558\tKRAS.300\t0.37\n",
      "66.2012138999\tBCAT.100\t0.18\n",
      "65.2965451618\tESC_J1_UP_EARLY\t0.28\n",
      "65.1486021664\tKRAS.LUNG.BREAST\t0.17\n",
      "64.9247930079\tPRC2_SUZ12\t0.19\n",
      "64.8433975786\tCYCLIN_D1_KE_\t0.13\n",
      "64.5168441433\tERB2\t0.19\n",
      "64.5042312284\tDCA\t0.23\n",
      "64.2826304932\tMTOR_UP.N4\t0.22\n",
      "64.2267881309\tCYCLIN_D1\t0.12\n",
      "63.9089525375\tRAPA_EARLY\t0.11\n",
      "63.5122895748\tIL21\t0.21\n",
      "63.2477770298\tPRC2_EED\t0.08\n",
      "63.0578232733\tKRAS.PROSTATE\t0.15\n",
      "62.7866693571\tSRC\t0.09\n",
      "62.7020987009\tGCNP_SHH_UP_EARLY\t0.1\n",
      "62.0086636716\tMTOR\t0.07\n",
      "61.7257761874\tLEF1\t0.06\n",
      "61.6360489425\tWNT\t0.06\n",
      "60.760087996\tE2F3\t0.09\n",
      "60.687191316\tAKT_UP_MTOR\t0.07\n",
      "60.23493435\tKRAS.600.LUNG.BREAST\t0.01\n",
      "59.6820334533\tPTEN\t0.08\n",
      "59.130742452\tKRAS.BREAST\t0.02\n",
      "58.7039636567\tNFE2L2.V2\t0.01\n",
      "58.6345635291\tKRAS.LUNG\t0.02\n",
      "58.4289343434\tESC_V6.5_UP_LATE\t0.06\n",
      "58.4077911956\tBMI1_DN_MEL18\t0.03\n",
      "58.0310093442\tMEL18\t0.02\n",
      "57.8026012301\tTGFB\t0.02\n",
      "57.4457499504\tMEK\t0.01\n",
      "57.2397993594\tEIF4E\t0.01\n",
      "57.2270470231\tJNK\t0.01\n",
      "57.0787347243\tSTK33_NOMO\t0.01\n",
      "57.0548758024\tAKT\t0.01\n",
      "57.0157167958\tESC_J1_UP_LATE\t0.01\n",
      "56.7220903105\tPDGF_ERK\t0.01\n",
      "56.5839427451\tSNF5\t0.02\n",
      "56.1199008307\tCRX\t0.02\n",
      "55.1247756106\tCSR_LATE\t0.02\n",
      "54.5531496367\tJAK2\t0.01\n"
     ]
    }
   ],
   "source": [
    "combo_auc = []\n",
    "with open(\"combo_top_sets.txt\", \"r\") as c:\n",
    "    for line in c:\n",
    "        tokens = line.split()\n",
    "        gene_set, auc, top = tokens[0], float(tokens[1]), float(tokens[2])\n",
    "        if top > 0:\n",
    "            combo_auc.append((gene_set, auc, top))\n",
    "combo_auc.sort(key=lambda x: -x[1])\n",
    "\n",
    "print(\"Average AUC\\tGene Set\\t% Time in Top 10\\n\")\n",
    "for gene_set, auc, top in combo_auc:\n",
    "    print(\"{}\\t{}\\t{}\".format(auc, gene_set, top))"
   ]
  },
  {
   "cell_type": "markdown",
   "metadata": {},
   "source": [
    "## Top Lapatinib Gene Sets "
   ]
  },
  {
   "cell_type": "code",
   "execution_count": 1,
   "metadata": {},
   "outputs": [
    {
     "name": "stdout",
     "output_type": "stream",
     "text": [
      "Average AUC\tGene Set\t% Time in Top 10\n",
      "\n",
      "74.0317587714\tKRAS.300\t0.89\n",
      "72.2002772748\tKRAS.BREAST\t0.74\n",
      "70.9657535593\tCORDENONSI_YAP_CONSERVED_SIGNATURE\t0.55\n",
      "69.9068261271\tBMI1_DN_MEL18\t0.48\n",
      "69.7101633343\tKRAS.KIDNEY\t0.46\n",
      "69.7070714146\tMTOR\t0.46\n",
      "69.1559418175\tKRAS.LUNG\t0.42\n",
      "68.9813114272\tNOTCH\t0.47\n",
      "68.5399761444\tBCAT_GDS748\t0.44\n",
      "68.3974645487\tGCNP_SHH_UP_LATE\t0.31\n",
      "68.3020347519\tKRAS.600\t0.28\n",
      "68.139301497\tKRAS.50\t0.33\n",
      "68.0033914516\tPKCA\t0.28\n",
      "67.8469812583\tAKT\t0.27\n",
      "67.8308365611\tIL2\t0.2\n",
      "67.7876456748\tNFE2L2.V2\t0.18\n",
      "67.6626102716\tCYCLIN_D1_KE_\t0.26\n",
      "67.1402032243\tKRAS.PROSTATE\t0.18\n",
      "66.9929594528\tMYC\t0.18\n",
      "66.7192829157\tRAF\t0.23\n",
      "66.6359135468\tERB2\t0.17\n",
      "66.6272960897\tALK\t0.22\n",
      "66.6235211211\tSNF5\t0.21\n",
      "66.0273214505\tKRAS.600.LUNG.BREAST\t0.13\n",
      "65.9243509174\tMTOR_UP.N4\t0.09\n",
      "65.7502441852\tPIGF\t0.14\n",
      "65.2217449183\tBRCA1\t0.18\n",
      "65.1458744588\tCAHOY_OLIGODENDROCUTIC\t0.06\n",
      "65.0253530959\tCYCLIN_D1\t0.13\n",
      "64.9116592747\tATF2\t0.06\n",
      "64.4744731941\tKRAS.LUNG.BREAST\t0.1\n",
      "64.109679232\tMEK\t0.09\n",
      "63.9594101143\tIL15\t0.04\n",
      "63.759858718\tLTE2\t0.04\n",
      "63.6759470273\tMEL18\t0.06\n",
      "63.6639889905\tLEF1\t0.03\n",
      "63.3746140117\tTGFB\t0.02\n",
      "63.366324148\tCAMP\t0.02\n",
      "63.2610921827\tIL21\t0.09\n",
      "63.0614801929\tHINATA_NFKB_IMMU_INF\t0.08\n",
      "63.0231666145\tE2F1\t0.08\n",
      "62.8431540785\tESC_V6.5_UP_EARLY\t0.01\n",
      "62.7368180083\tCRX_NRL\t0.04\n",
      "62.7006985653\tPRC2_SUZ12\t0.02\n",
      "62.6772828449\tGCNP_SHH_UP_EARLY\t0.02\n",
      "62.4661908486\tCAHOY_ASTROGLIAL\t0.01\n",
      "62.4017483536\tTBK1\t0.04\n",
      "62.2671069359\tRPS14\t0.04\n",
      "61.5940481599\tAKT_UP_MTOR\t0.04\n",
      "61.3395694841\tRELA\t0.01\n",
      "61.2168405163\tCSR_LATE\t0.02\n",
      "60.9109760166\tCSR_EARLY\t0.02\n",
      "60.1308044372\tRB_P130\t0.02\n",
      "59.691800677\tPRC2_EZH2\t0.02\n",
      "59.0352611235\tJAK2\t0.01\n",
      "58.7405027412\tRAPA_EARLY\t0.01\n",
      "58.4292458406\tSTK33_SKM\t0.01\n",
      "56.0969740837\tYAP1\t0.01\n"
     ]
    }
   ],
   "source": [
    "lap_auc = []\n",
    "with open(\"lapatinib_top_sets.txt\", \"r\") as c:\n",
    "    for line in c:\n",
    "        tokens = line.split()\n",
    "        gene_set, auc, top = tokens[0], float(tokens[1]), float(tokens[2])\n",
    "        if top > 0:\n",
    "            lap_auc.append((gene_set, auc, top))\n",
    "lap_auc.sort(key=lambda x: -x[1])\n",
    "\n",
    "print(\"Average AUC\\tGene Set\\t% Time in Top 10\\n\")\n",
    "for gene_set, auc, top in lap_auc:\n",
    "    print(\"{}\\t{}\\t{}\".format(auc, gene_set, top))"
   ]
  },
  {
   "cell_type": "markdown",
   "metadata": {},
   "source": [
    "## Top Trastuzumab Gene Sets "
   ]
  },
  {
   "cell_type": "code",
   "execution_count": 6,
   "metadata": {},
   "outputs": [
    {
     "name": "stdout",
     "output_type": "stream",
     "text": [
      "Average AUC\tGene Set\t% Time in Top 10\n",
      "\n",
      "76.4838899173\tE2F1\t0.82\n",
      "75.7882781761\tBRCA1\t0.76\n",
      "75.40538717\tAKT\t0.81\n",
      "75.38783682\tVEGF_A\t0.78\n",
      "74.3735453109\tRAPA_EARLY\t0.65\n",
      "74.3527738438\tJNK\t0.64\n",
      "73.6992013379\tRB\t0.53\n",
      "73.4603459123\tSNF5\t0.6\n",
      "72.9151859252\tTGFB\t0.56\n",
      "72.1739817209\tCSR_LATE\t0.47\n",
      "71.6189328156\tMTOR\t0.35\n",
      "71.5198902568\tPRC2_SUZ12\t0.34\n",
      "70.2610092032\tATF2\t0.27\n",
      "69.6925105287\tJAK2\t0.18\n",
      "69.6478348857\tATM\t0.3\n",
      "69.0614923475\tEIF4E\t0.13\n",
      "68.9763549033\tCAMP\t0.09\n",
      "68.8132284056\tTBK1\t0.13\n",
      "68.7059090419\tMYC\t0.2\n",
      "68.6831649723\tAKT_UP_MTOR\t0.11\n",
      "68.0941781748\tPTEN\t0.13\n",
      "68.0869285943\tPRC2_EED\t0.07\n",
      "67.6397517434\tMEK\t0.08\n",
      "67.3336131352\tERB2\t0.12\n",
      "66.7759929286\tESC_V6.5_UP_LATE\t0.09\n",
      "66.6057353104\tKRAS.LUNG\t0.09\n",
      "66.5862383205\tGCNP_SHH_UP_EARLY\t0.06\n",
      "66.5442782055\tGCNP_SHH_UP_LATE\t0.07\n",
      "66.3867703865\tDCA\t0.06\n",
      "66.2126246792\tMTOR_UP.N4\t0.02\n",
      "65.8375147565\tNOTCH\t0.05\n",
      "65.6949406149\tPRC1_BMI\t0.06\n",
      "65.630747243\tCYCLIN_D1_KE_\t0.02\n",
      "65.6255178318\tIL21\t0.04\n",
      "65.5844087938\tCYCLIN_D1\t0.01\n",
      "65.4152737295\tCAHOY_NEURONAL\t0.11\n",
      "63.7507922062\tSTK33_SKM\t0.03\n",
      "63.1600194005\tBCAT_BILD_ET_AL\t0.01\n",
      "63.0870140317\tATF2_S\t0.01\n",
      "62.1588772012\tHINATA_NFKB_MATRIX\t0.04\n",
      "61.7267521531\tLTE2\t0.01\n",
      "61.5301982984\tCSR_EARLY\t0.02\n",
      "61.5158616873\tCAHOY_ASTROCYTIC\t0.02\n",
      "61.145426322\tIL2\t0.01\n",
      "60.2186959446\tNRL\t0.01\n",
      "59.9833741096\tPDGF\t0.01\n",
      "59.5024784366\tEGFR\t0.01\n",
      "58.3530459573\tYAP1\t0.01\n",
      "57.2081765294\tALK\t0.01\n"
     ]
    }
   ],
   "source": [
    "trast_auc = []\n",
    "with open(\"trastuzumab_top_sets.txt\", \"r\") as c:\n",
    "    for line in c:\n",
    "        tokens = line.split()\n",
    "        gene_set, auc, top = tokens[0], float(tokens[1]), float(tokens[2])\n",
    "        if top > 0:\n",
    "            trast_auc.append((gene_set, auc, top))\n",
    "trast_auc.sort(key=lambda x: -x[1])\n",
    "\n",
    "print(\"Average AUC\\tGene Set\\t% Time in Top 10\\n\")\n",
    "for gene_set, auc, top in trast_auc:\n",
    "    print(\"{}\\t{}\\t{}\".format(auc, gene_set, top))"
   ]
  },
  {
   "cell_type": "markdown",
   "metadata": {},
   "source": [
    "## Top Multi-Task Combo Gene Sets "
   ]
  },
  {
   "cell_type": "code",
   "execution_count": 2,
   "metadata": {},
   "outputs": [
    {
     "name": "stdout",
     "output_type": "stream",
     "text": [
      "Average AUC\tGene Set\t% Time in Top 10\n",
      "\n",
      "72.6984126984\tDCA\t1.0\n",
      "69.5268620269\tCTIP\t1.0\n",
      "68.7881562882\tPTEN\t1.0\n",
      "68.6864061864\tMTOR_UP.N4\t1.0\n",
      "68.0015567766\tE2F1\t1.0\n",
      "67.7997863248\tGCNP_SHH_UP_LATE\t1.0\n",
      "67.6034188034\tCAHOY_NEURONAL\t1.0\n",
      "66.8790598291\tAKT_UP_MTOR\t1.0\n",
      "66.827981278\tWNT\t1.0\n",
      "66.7195767196\tCSR_LATE\t1.0\n"
     ]
    }
   ],
   "source": [
    "combo_auc = []\n",
    "with open(\"multi_combo_top_sets.txt\", \"r\") as c:\n",
    "    for line in c:\n",
    "        tokens = line.split()\n",
    "        gene_set, auc, top = tokens[0], float(tokens[1]), float(tokens[2])\n",
    "        if top > 0:\n",
    "            combo_auc.append((gene_set, auc, top))\n",
    "combo_auc.sort(key=lambda x: -x[1])\n",
    "\n",
    "print(\"Average AUC\\tGene Set\\t% Time in Top 10\\n\")\n",
    "for gene_set, auc, top in combo_auc:\n",
    "    print(\"{}\\t{}\\t{}\".format(auc, gene_set, top))"
   ]
  },
  {
   "cell_type": "markdown",
   "metadata": {},
   "source": [
    "## Top Multi-Task Laptinib Gene Sets "
   ]
  },
  {
   "cell_type": "code",
   "execution_count": 9,
   "metadata": {},
   "outputs": [
    {
     "name": "stdout",
     "output_type": "stream",
     "text": [
      "Average AUC\tGene Set\t% Time in Top 10\n",
      "\n",
      "76.2678571429\tKRAS.BREAST\t1.0\n",
      "76.1342261905\tGCNP_SHH_UP_LATE\t1.0\n",
      "75.8511904762\tCSR_EARLY\t1.0\n",
      "74.5288690476\tMTOR_UP.N4\t1.0\n",
      "74.1652380952\tMTOR\t1.0\n",
      "73.3785714286\tTBK1\t0.99\n",
      "73.0210119048\tCSR_LATE\t1.0\n",
      "72.7696428571\tNOTCH\t1.0\n",
      "72.3063988095\tVEGF_A\t1.0\n",
      "71.9642857143\tBMI1_DN_MEL18\t0.98\n",
      "71.6595238095\tCAHOY_ASTROGLIAL\t0.03\n"
     ]
    }
   ],
   "source": [
    "lap_auc = []\n",
    "with open(\"multi_lap_top_sets.txt\", \"r\") as c:\n",
    "    for line in c:\n",
    "        tokens = line.split()\n",
    "        gene_set, auc, top = tokens[0], float(tokens[1]), float(tokens[2])\n",
    "        if top > 0:\n",
    "            lap_auc.append((gene_set, auc, top))\n",
    "lap_auc.sort(key=lambda x: -x[1])\n",
    "\n",
    "print(\"Average AUC\\tGene Set\\t% Time in Top 10\\n\")\n",
    "for gene_set, auc, top in lap_auc:\n",
    "    print(\"{}\\t{}\\t{}\".format(auc, gene_set, top))"
   ]
  },
  {
   "cell_type": "markdown",
   "metadata": {},
   "source": [
    "## Top Multi-Task Trastuzumab Gene Sets  "
   ]
  },
  {
   "cell_type": "code",
   "execution_count": 10,
   "metadata": {},
   "outputs": [
    {
     "name": "stdout",
     "output_type": "stream",
     "text": [
      "Average AUC\tGene Set\t% Time in Top 10\n",
      "\n",
      "71.9120879121\tPTEN\t1.0\n",
      "70.5779487179\tESC_V6.5_UP_LATE\t1.0\n",
      "70.1435347985\tGCNP_SHH_UP_LATE\t1.0\n",
      "69.7032967033\tRAPA_EARLY\t1.0\n",
      "69.3992673993\tVEGF_A\t1.0\n",
      "69.3580586081\tPRC2_SUZ12\t1.0\n",
      "69.1648351648\tSNF5\t1.0\n",
      "69.1364102564\tTGFB\t0.99\n",
      "69.0169413919\tJNK\t1.0\n",
      "68.8085347985\tESC_V6.5_UP_EARLY\t0.99\n",
      "68.3850549451\tDCA\t0.02\n"
     ]
    }
   ],
   "source": [
    "trast_auc = []\n",
    "with open(\"multi_trast_top_sets.txt\", \"r\") as c:\n",
    "    for line in c:\n",
    "        tokens = line.split()\n",
    "        gene_set, auc, top = tokens[0], float(tokens[1]), float(tokens[2])\n",
    "        if top > 0:\n",
    "            trast_auc.append((gene_set, auc, top))\n",
    "trast_auc.sort(key=lambda x: -x[1])\n",
    "\n",
    "print(\"Average AUC\\tGene Set\\t% Time in Top 10\\n\")\n",
    "for gene_set, auc, top in trast_auc:\n",
    "    print(\"{}\\t{}\\t{}\".format(auc, gene_set, top))"
   ]
  },
  {
   "cell_type": "code",
   "execution_count": null,
   "metadata": {},
   "outputs": [],
   "source": []
  }
 ],
 "metadata": {
  "kernelspec": {
   "display_name": "Python 3",
   "language": "python",
   "name": "python3"
  },
  "language_info": {
   "codemirror_mode": {
    "name": "ipython",
    "version": 3
   },
   "file_extension": ".py",
   "mimetype": "text/x-python",
   "name": "python",
   "nbconvert_exporter": "python",
   "pygments_lexer": "ipython3",
   "version": "3.5.4"
  }
 },
 "nbformat": 4,
 "nbformat_minor": 2
}
