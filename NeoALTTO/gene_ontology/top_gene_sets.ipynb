{
 "cells": [
  {
   "cell_type": "markdown",
   "metadata": {},
   "source": [
    "## Top Combo Gene Sets"
   ]
  },
  {
   "cell_type": "code",
   "execution_count": 5,
   "metadata": {},
   "outputs": [
    {
     "name": "stdout",
     "output_type": "stream",
     "text": [
      "Average Test AUC\tAverage Validation AUC\tGene Set\t% Time in Top 10\n",
      "\n",
      "76.81999999999996\t76.47833333333338\tCAHOY_NEURONAL\t0.85\n",
      "75.46000000000002\t75.35500000000002\tCTIP\t0.86\n",
      "74.80166666666665\t74.01166666666667\tCAHOY_OLIGODENDROCUTIC\t0.82\n",
      "71.74833333333332\t70.42166666666671\tKRAS.600\t0.66\n",
      "70.61000000000001\t69.9566666666667\tBRCA1\t0.52\n",
      "69.5233333333333\t69.86666666666667\tKRAS.50\t0.46\n",
      "67.66166666666668\t67.15666666666667\tCSR_EARLY\t0.33\n",
      "64.54666666666667\t67.05833333333332\tESC_J1_UP_EARLY\t0.31\n",
      "68.3616666666667\t66.85666666666668\tKRAS.AMP.LUNG\t0.35\n",
      "67.90499999999999\t66.42999999999999\tE2F1\t0.34\n",
      "65.17333333333333\t65.25999999999999\tKRAS.300\t0.27\n",
      "64.25666666666666\t64.51000000000002\tKRAS.LUNG.BREAST\t0.24\n",
      "65.86333333333332\t64.43666666666668\tPRC2_SUZ12\t0.26\n",
      "64.87166666666667\t64.06666666666666\tBCAT.100\t0.17\n",
      "63.94833333333336\t64.00999999999999\tMTOR_UP.N4\t0.22\n",
      "63.839999999999996\t63.95833333333334\tCYCLIN_D1_KE_\t0.12\n",
      "63.238333333333344\t63.88666666666665\tERB2\t0.17\n",
      "64.275\t63.826666666666654\tSRC\t0.19\n",
      "64.50999999999999\t63.815000000000005\tPRC2_EED\t0.16\n",
      "63.97833333333335\t63.593333333333334\tDCA\t0.21\n",
      "61.81333333333334\t62.979999999999976\tRAPA_EARLY\t0.17\n",
      "62.67999999999998\t62.796666666666646\tGCNP_SHH_UP_EARLY\t0.08\n",
      "63.18666666666669\t62.56666666666667\tIL21\t0.15\n",
      "62.60500000000001\t62.54499999999999\tCYCLIN_D1\t0.13\n",
      "61.626666666666665\t60.94833333333332\tMTOR\t0.07\n",
      "61.43000000000001\t60.78500000000004\tKRAS.PROSTATE\t0.12\n",
      "60.923333333333325\t60.56833333333332\tAKT_UP_MTOR\t0.1\n",
      "58.20333333333334\t60.008333333333354\tMEK\t0.06\n",
      "62.39\t59.92833333333333\tWNT\t0.07\n",
      "58.58\t59.735\tBMI1_DN_MEL18\t0.09\n",
      "57.96333333333334\t59.57500000000002\tKRAS.600.LUNG.BREAST\t0.09\n",
      "60.76833333333333\t59.5133333333333\tPTEN\t0.18\n",
      "60.209999999999994\t59.11333333333333\tLEF1\t0.11\n",
      "60.808333333333344\t59.10166666666666\tE2F3\t0.06\n",
      "57.50833333333332\t59.09166666666667\tKRAS.BREAST\t0.11\n",
      "55.46166666666666\t58.65666666666666\tKRAS.LUNG\t0.08\n",
      "59.46499999999997\t58.63666666666666\tP53\t0.05\n",
      "59.71166666666668\t58.453333333333354\tMYC\t0.05\n",
      "60.48333333333334\t58.17499999999998\tNFE2L2.V2\t0.03\n",
      "56.65833333333329\t58.17499999999998\tRB_P107\t0.02\n",
      "56.385\t58.05666666666667\tMEL18\t0.02\n",
      "59.876666666666665\t58.001666666666665\tBCAT_GDS748\t0.06\n",
      "58.908333333333346\t57.819999999999986\tRB\t0.04\n",
      "54.645\t57.64\tJNK\t0.01\n",
      "58.11\t57.231666666666705\tSNF5\t0.02\n",
      "56.829999999999984\t56.50999999999999\tESC_V6.5_UP_LATE\t0.05\n",
      "56.31499999999998\t56.305\tPIGF\t0.01\n",
      "55.78833333333333\t56.3\tCRX\t0.04\n",
      "56.595\t55.600000000000016\tAKT\t0.04\n",
      "55.67666666666668\t55.581666666666656\tEGFR\t0.02\n",
      "54.93166666666665\t55.231666666666655\tPDGF_ERK\t0.07\n",
      "53.265000000000015\t54.37000000000002\tSIRNA_EIF4GI\t0.02\n",
      "54.08166666666666\t54.21\tVEGF_A\t0.01\n",
      "56.756666666666675\t54.20333333333334\tPRC2_EZH2\t0.02\n",
      "50.85000000000001\t54.103333333333346\tYAP1\t0.01\n",
      "54.09499999999999\t53.60333333333334\tATF2\t0.03\n",
      "54.476666666666674\t53.48166666666668\tTBK1\t0.01\n",
      "55.79666666666665\t53.45333333333335\tCSR_LATE\t0.02\n",
      "53.63833333333335\t53.44166666666667\tRB_P130\t0.03\n",
      "53.41166666666664\t53.19999999999998\tNOTCH\t0.01\n",
      "52.44166666666666\t52.718333333333334\tRELA\t0.02\n",
      "54.320000000000014\t52.60333333333332\tSTK33_SKM\t0.01\n",
      "52.82333333333332\t52.4883333333333\tESC_V6.5_UP_EARLY\t0.01\n",
      "50.65833333333334\t52.418333333333344\tRAF\t0.01\n",
      "53.90666666666665\t52.193333333333314\tATM\t0.01\n",
      "52.67000000000002\t52.081666666666656\tGCNP_SHH_UP_LATE\t0.01\n",
      "53.63833333333333\t51.729999999999976\tCAMP\t0.01\n",
      "51.67500000000002\t51.43499999999998\tSTK33\t0.01\n",
      "51.47833333333333\t51.318333333333314\tJAK2\t0.01\n",
      "49.016666666666666\t49.46\tCRX_NRL\t0.02\n",
      "44.39333333333332\t46.40666666666669\tKRAS.DF\t0.01\n"
     ]
    }
   ],
   "source": [
    "combo_auc = []\n",
    "with open(\"combo_top_sets.txt\", \"r\") as c:\n",
    "    for line in c:\n",
    "        tokens = line.split()\n",
    "        gene_set, val_auc, test_auc, top = tokens[0], float(tokens[1]), float(tokens[2]), float(tokens[3])\n",
    "        if top > 0:\n",
    "            combo_auc.append((gene_set, test_auc, val_auc, top))\n",
    "combo_auc.sort(key=lambda x: -x[2])\n",
    "\n",
    "print(\"Average Test AUC\\tAverage Validation AUC\\tGene Set\\t% Time in Top 10\\n\")\n",
    "for gene_set, test_auc, val_auc, top in combo_auc:\n",
    "    print(\"{}\\t{}\\t{}\\t{}\".format(test_auc, val_auc, gene_set, top))"
   ]
  },
  {
   "cell_type": "markdown",
   "metadata": {},
   "source": [
    "## Top Lapatinib Gene Sets "
   ]
  },
  {
   "cell_type": "code",
   "execution_count": 6,
   "metadata": {},
   "outputs": [
    {
     "name": "stdout",
     "output_type": "stream",
     "text": [
      "Average Test AUC\tAverage Validation AUC\tGene Set\t% Time in Top 10\n",
      "\n",
      "74.73333333333335\t73.89953703703706\tKRAS.300\t0.63\n",
      "72.57685185185186\t72.33935185185189\tKRAS.BREAST\t0.59\n",
      "72.32129629629634\t71.30925925925926\tCORDENONSI_YAP_CONSERVED_SIGNATURE\t0.45\n",
      "67.41990740740742\t70.10509259259261\tKRAS.KIDNEY\t0.27\n",
      "69.10000000000001\t69.46828703703703\tKRAS.LUNG\t0.37\n",
      "69.95509259259258\t69.22037037037033\tNOTCH\t0.37\n",
      "69.46875\t68.65231481481482\tBCAT_GDS748\t0.35\n",
      "69.14999999999999\t68.44305555555555\tGCNP_SHH_UP_LATE\t0.28\n",
      "68.74722222222222\t68.21805555555554\tKRAS.600\t0.28\n",
      "70.25185185185185\t68.19953703703702\tMTOR\t0.27\n",
      "68.30694444444445\t68.03333333333336\tKRAS.50\t0.28\n",
      "67.5199074074074\t67.84675925925927\tCYCLIN_D1_KE_\t0.29\n",
      "67.5416666666667\t67.82314814814814\tPKCA\t0.21\n",
      "66.43287037037037\t67.63287037037034\tSNF5\t0.25\n",
      "67.26574074074071\t67.53611111111114\tMYC\t0.22\n",
      "70.2851851851852\t67.49907407407406\tBMI1_DN_MEL18\t0.2\n",
      "67.6310185185185\t66.94675925925925\tNFE2L2.V2\t0.24\n",
      "67.03101851851855\t66.80648148148148\tERB2\t0.17\n",
      "66.92175925925925\t66.70416666666665\tIL2\t0.19\n",
      "66.95277777777778\t66.51736111111111\tRAF\t0.22\n",
      "65.52962962962962\t66.19490740740741\tCAHOY_OLIGODENDROCUTIC\t0.21\n",
      "67.7912037037037\t65.8398148148148\tAKT\t0.21\n",
      "67.60231481481482\t65.8\tALK\t0.16\n",
      "64.28750000000001\t65.72268518518516\tIL15\t0.09\n",
      "66.75185185185184\t65.62083333333334\tKRAS.600.LUNG.BREAST\t0.12\n",
      "67.08935185185186\t65.59953703703702\tKRAS.PROSTATE\t0.17\n",
      "66.71574074074074\t65.50324074074072\tMEK\t0.12\n",
      "66.11296296296297\t65.45787037037037\tPIGF\t0.14\n",
      "64.69351851851854\t65.27083333333334\tATF2\t0.07\n",
      "65.4115740740741\t65.13472222222222\tMTOR_UP.N4\t0.12\n",
      "65.12592592592596\t64.74814814814813\tCYCLIN_D1\t0.14\n",
      "64.9787037037037\t64.53796296296294\tMEL18\t0.07\n",
      "64.74212962962962\t64.5138888888889\tBRCA1\t0.16\n",
      "63.774074074074065\t64.50185185185187\tLTE2\t0.11\n",
      "64.27083333333334\t64.1050925925926\tTBK1\t0.1\n",
      "63.791203703703744\t63.73842592592592\tCRX_NRL\t0.11\n",
      "64.60138888888889\t63.51666666666666\tKRAS.LUNG.BREAST\t0.1\n",
      "63.78564814814813\t63.171990740740746\tIL21\t0.06\n",
      "63.70046296296296\t63.1662037037037\tCAMP\t0.08\n",
      "63.619444444444426\t62.90462962962964\tE2F1\t0.12\n",
      "63.291666666666664\t62.59537037037038\tTGFB\t0.09\n",
      "62.21574074074076\t62.50787037037037\tHINATA_NFKB_IMMU_INF\t0.14\n",
      "64.3236111111111\t62.501388888888904\tLEF1\t0.04\n",
      "60.018518518518505\t62.468981481481485\tKRAS.DF\t0.05\n",
      "62.86990740740741\t62.31805555555555\tGCNP_SHH_UP_EARLY\t0.05\n",
      "61.31990740740743\t62.306944444444426\tESC_J1_UP_LATE\t0.04\n",
      "62.10648148148148\t62.20740740740744\tEIF4E\t0.08\n",
      "60.56157407407405\t61.96990740740741\tCSR_EARLY\t0.03\n",
      "61.07175925925924\t61.831018518518505\tCAHOY_ASTROGLIAL\t0.01\n",
      "62.44074074074071\t61.705092592592585\tPRC2_SUZ12\t0.04\n",
      "62.55092592592591\t61.64814814814814\tESC_V6.5_UP_EARLY\t0.04\n",
      "61.14814814814814\t61.50694444444446\tCSR_LATE\t0.09\n",
      "63.48333333333332\t61.21527777777779\tRPS14\t0.07\n",
      "61.518518518518555\t61.125462962962956\tAKT_UP_MTOR\t0.07\n",
      "61.50138888888888\t60.94722222222221\tRB_P130\t0.06\n",
      "61.215740740740735\t60.69999999999999\tSIRNA_EIF4GI\t0.01\n",
      "60.72407407407411\t60.177314814814835\tATF2_S\t0.01\n",
      "60.1087962962963\t59.95185185185187\tRELA\t0.04\n",
      "60.59722222222223\t59.73564814814815\tJAK2\t0.01\n",
      "61.71666666666664\t59.51064814814816\tP53\t0.03\n",
      "59.537037037037024\t59.460185185185175\tE2F3\t0.05\n",
      "59.16805555555555\t58.618518518518535\tBCAT_BILD_ET_AL\t0.04\n",
      "59.25740740740741\t58.31944444444446\tJNK\t0.01\n",
      "58.14074074074075\t57.958796296296306\tRAPA_EARLY\t0.01\n",
      "57.25416666666666\t57.827777777777776\tPRC1_BMI\t0.02\n",
      "59.540277777777774\t57.706018518518526\tPRC2_EZH2\t0.04\n",
      "60.18472222222221\t57.42407407407408\tSTK33_SKM\t0.02\n",
      "58.95115740740739\t57.32268518518521\tVEGF_A\t0.02\n",
      "59.402777777777786\t57.16990740740741\tCRX\t0.03\n",
      "58.96527777777777\t56.80092592592593\tNRL\t0.03\n",
      "56.60509259259257\t55.90925925925926\tSTK33\t0.04\n",
      "53.84999999999999\t54.826388888888886\tBCAT.100\t0.02\n",
      "54.352314814814825\t54.559722222222206\tYAP1\t0.02\n",
      "57.14398148148148\t54.10879629629629\tSTK33_NOMO\t0.01\n",
      "48.33009259259259\t48.980555555555554\tRB\t0.01\n",
      "48.33703703703704\t48.971759259259244\tKRAS.AMP.LUNG\t0.01\n",
      "48.78148148148148\t48.48055555555553\tDCA\t0.02\n",
      "46.86574074074073\t47.18472222222221\tGLI1\t0.01\n"
     ]
    }
   ],
   "source": [
    "lap_auc = []\n",
    "with open(\"lapatinib_top_sets.txt\", \"r\") as c:\n",
    "    for line in c:\n",
    "        tokens = line.split()\n",
    "        gene_set, val_auc, test_auc, top = tokens[0], float(tokens[1]), float(tokens[2]), float(tokens[3])\n",
    "        if top > 0:\n",
    "            lap_auc.append((gene_set, test_auc, val_auc, top))\n",
    "lap_auc.sort(key=lambda x: -x[2])\n",
    "\n",
    "print(\"Average Test AUC\\tAverage Validation AUC\\tGene Set\\t% Time in Top 10\\n\")\n",
    "for gene_set, test_auc, val_auc, top in lap_auc:\n",
    "    print(\"{}\\t{}\\t{}\\t{}\".format(test_auc, val_auc, gene_set, top))"
   ]
  },
  {
   "cell_type": "markdown",
   "metadata": {},
   "source": [
    "## Top Trastuzumab Gene Sets "
   ]
  },
  {
   "cell_type": "code",
   "execution_count": 7,
   "metadata": {},
   "outputs": [
    {
     "name": "stdout",
     "output_type": "stream",
     "text": [
      "Average Test AUC\tAverage Validation AUC\tGene Set\t% Time in Top 10\n",
      "\n",
      "75.36666666666665\t77.1047619047619\tBRCA1\t0.65\n",
      "75.70833333333334\t76.53809523809524\tE2F1\t0.63\n",
      "74.42857142857144\t76.48095238095237\tVEGF_A\t0.59\n",
      "75.89285714285715\t76.17142857142854\tAKT\t0.55\n",
      "72.54166666666667\t74.37142857142858\tSNF5\t0.41\n",
      "73.52857142857142\t74.17142857142859\tTGFB\t0.37\n",
      "73.24404761904762\t73.94761904761907\tRAPA_EARLY\t0.41\n",
      "73.55833333333332\t73.5904761904762\tJNK\t0.42\n",
      "73.85476190476192\t72.89999999999999\tRB\t0.34\n",
      "71.28095238095237\t72.89761904761907\tPRC2_SUZ12\t0.29\n",
      "71.32857142857144\t72.62619047619047\tMTOR\t0.33\n",
      "72.22380952380954\t72.43333333333337\tCSR_LATE\t0.38\n",
      "70.02619047619046\t71.31904761904762\tATF2\t0.26\n",
      "69.3797619047619\t71.02857142857147\tJAK2\t0.23\n",
      "68.76428571428569\t70.24761904761905\tAKT_UP_MTOR\t0.18\n",
      "69.47261904761908\t70.04285714285714\tATM\t0.21\n",
      "66.04880952380952\t69.29047619047621\tPRC2_EED\t0.13\n",
      "67.49047619047622\t69.20952380952382\tTBK1\t0.1\n",
      "68.62619047619044\t69.20476190476194\tCAMP\t0.23\n",
      "69.25952380952378\t68.70476190476192\tEIF4E\t0.25\n",
      "65.38333333333335\t68.4857142857143\tERB2\t0.16\n",
      "68.23571428571425\t68.37142857142858\tPTEN\t0.19\n",
      "63.15714285714286\t67.80952380952381\tCAHOY_NEURONAL\t0.19\n",
      "66.6511904761905\t67.57142857142858\tESC_V6.5_UP_LATE\t0.11\n",
      "66.925\t67.34285714285717\tMYC\t0.16\n",
      "66.17261904761907\t67.33333333333333\tGCNP_SHH_UP_LATE\t0.08\n",
      "65.06190476190474\t67.2095238095238\tMEK\t0.19\n",
      "68.12142857142861\t66.90476190476194\tMTOR_UP.N4\t0.05\n",
      "65.95952380952382\t66.7714285714286\tKRAS.LUNG\t0.14\n",
      "65.82857142857144\t66.70952380952383\tGCNP_SHH_UP_EARLY\t0.13\n",
      "65.30357142857144\t66.51904761904761\tPRC1_BMI\t0.06\n",
      "63.996428571428545\t66.46190476190478\tCYCLIN_D1\t0.04\n",
      "63.747619047619054\t66.39047619047618\tIL21\t0.16\n",
      "61.9345238095238\t65.2761904761905\tCYCLIN_D1_KE_\t0.05\n",
      "64.48511904761902\t65.25714285714287\tNOTCH\t0.11\n",
      "62.304761904761925\t64.85476190476193\tSIRNA_EIF4GI\t0.07\n",
      "64.53571428571429\t64.59047619047621\tDCA\t0.1\n",
      "59.95595238095238\t64.47142857142856\tKRAS.300\t0.08\n",
      "63.554761904761904\t63.885714285714286\tPRC2_EZH2\t0.09\n",
      "63.20119047619049\t63.70476190476191\tSTK33_SKM\t0.03\n",
      "62.5107142857143\t63.554761904761946\tESC_J1_UP_LATE\t0.03\n",
      "62.13452380952383\t63.38571428571429\tSTK33\t0.03\n",
      "59.42619047619047\t62.90000000000001\tPIGF\t0.05\n",
      "62.820238095238096\t62.87619047619049\tATF2_S\t0.01\n",
      "62.59880952380951\t62.87619047619047\tBCAT_BILD_ET_AL\t0.05\n",
      "62.833333333333336\t62.65000000000001\tKRAS.BREAST\t0.05\n",
      "59.907142857142865\t62.40000000000003\tCRX\t0.05\n",
      "60.60119047619046\t62.30000000000003\tCSR_EARLY\t0.01\n",
      "58.9047619047619\t62.142857142857146\tCAHOY_ASTROCYTIC\t0.04\n",
      "60.39404761904765\t61.99047619047623\tKRAS.600\t0.01\n",
      "60.49166666666667\t61.59047619047623\tHOXA9\t0.02\n",
      "60.43809523809524\t61.51904761904765\tIL2\t0.01\n",
      "57.41785714285712\t61.30476190476194\tLEF1\t0.01\n",
      "62.266666666666666\t61.14285714285714\tWNT\t0.03\n",
      "59.47142857142855\t60.500000000000036\tNRL\t0.04\n",
      "57.349999999999994\t60.447619047619035\tCTIP\t0.04\n",
      "60.21785714285715\t60.43333333333332\tLTE2\t0.02\n",
      "60.479761904761915\t60.2\tPDGF\t0.01\n",
      "57.984523809523786\t59.75714285714287\tRB_P107\t0.04\n",
      "59.71428571428571\t59.599999999999994\tHINATA_NFKB_MATRIX\t0.03\n",
      "56.907142857142865\t59.228571428571435\tRELA\t0.02\n",
      "58.46666666666668\t58.73333333333334\tYAP1\t0.01\n",
      "57.86785714285715\t58.72857142857143\tSINGH_KRAS_DEPENDENCY_SIGNATURE_\t0.07\n",
      "59.03571428571428\t58.63809523809522\tNFE2L2.V2\t0.01\n",
      "56.201190476190476\t58.333333333333364\tALK\t0.02\n",
      "56.452380952380956\t57.01428571428574\tCRX_NRL\t0.01\n",
      "57.133333333333326\t55.97142857142857\tESC_J1_UP_EARLY\t0.01\n",
      "56.461904761904755\t55.414285714285704\tP53\t0.02\n",
      "53.61904761904765\t55.395238095238106\tBMI1_DN_MEL18\t0.01\n",
      "54.12261904761905\t54.757142857142846\tESC_V6.5_UP_EARLY\t0.02\n",
      "52.510714285714286\t54.34761904761904\tKRAS.600.LUNG.BREAST\t0.01\n",
      "54.28809523809524\t54.247619047619075\tKRAS.DF\t0.01\n",
      "55.13452380952381\t54.07142857142856\tPKCA\t0.01\n",
      "54.78690476190476\t53.85714285714285\tSRC\t0.01\n",
      "52.0440476190476\t52.561904761904756\tKRAS.AMP.LUNG\t0.01\n",
      "51.498809523809506\t50.461904761904755\tBCAT_GDS748\t0.01\n",
      "50.48214285714287\t49.56666666666667\tHINATA_NFKB_IMMU_INF\t0.01\n"
     ]
    }
   ],
   "source": [
    "trast_auc = []\n",
    "with open(\"trastuzumab_top_sets.txt\", \"r\") as c:\n",
    "    for line in c:\n",
    "        tokens = line.split()\n",
    "        gene_set, val_auc, test_auc, top = tokens[0], float(tokens[1]), float(tokens[2]), float(tokens[3])\n",
    "        if top > 0:\n",
    "            trast_auc.append((gene_set, test_auc, val_auc, top))\n",
    "trast_auc.sort(key=lambda x: -x[2])\n",
    "\n",
    "print(\"Average Test AUC\\tAverage Validation AUC\\tGene Set\\t% Time in Top 10\\n\")\n",
    "for gene_set, test_auc, val_auc, top in trast_auc:\n",
    "    print(\"{}\\t{}\\t{}\\t{}\".format(test_auc, val_auc, gene_set, top))"
   ]
  },
  {
   "cell_type": "markdown",
   "metadata": {},
   "source": [
    "## Top Multi-Task Combo Gene Sets "
   ]
  },
  {
   "cell_type": "code",
   "execution_count": 1,
   "metadata": {},
   "outputs": [
    {
     "name": "stdout",
     "output_type": "stream",
     "text": [
      "Average Test AUC\tAverage Validation AUC\tGene Set\t% Time in Top 10\n",
      "\n",
      "73.6666666667\t69.6111737678\tESC_J1_UP_LATE\t1.0\n",
      "67.0\t68.8810150376\tCTIP\t1.0\n",
      "62.6333333333\t68.6105973266\tDCA\t0.99\n",
      "70.3333333333\t68.3108270677\tIL21\t0.99\n",
      "67.6666666667\t67.9171052632\tPTEN\t1.0\n",
      "67.3633333333\t67.2145196324\tCSR_EARLY\t1.0\n",
      "68.0\t67.1273809524\tVEGF_A\t1.0\n",
      "71.6666666667\t67.0252631579\tGCNP_SHH_UP_LATE\t1.0\n",
      "76.3033333333\t66.9960526316\tPRC2_SUZ12\t1.0\n",
      "71.6966666667\t66.8538011696\tESC_V6.5_UP_EARLY\t1.0\n",
      "66.3333333333\t66.2643943191\tTGFB\t0.02\n"
     ]
    }
   ],
   "source": [
    "combo_auc = []\n",
    "with open(\"multi_combo_top_sets.txt\", \"r\") as c:\n",
    "    for line in c:\n",
    "        tokens = line.split()\n",
    "        gene_set, val_auc, test_auc, top = tokens[0], float(tokens[1]), float(tokens[2]), float(tokens[3])\n",
    "        if top > 0:\n",
    "            combo_auc.append((gene_set, test_auc, val_auc, top))\n",
    "combo_auc.sort(key=lambda x: -x[2])\n",
    "\n",
    "print(\"Average Test AUC\\tAverage Validation AUC\\tGene Set\\t% Time in Top 10\\n\")\n",
    "for gene_set, test_auc, val_auc, top in combo_auc:\n",
    "    print(\"{}\\t{}\\t{}\\t{}\".format(test_auc, val_auc, gene_set, top))"
   ]
  },
  {
   "cell_type": "markdown",
   "metadata": {},
   "source": [
    "## Top Multi-Task Lapatinib Gene Sets "
   ]
  },
  {
   "cell_type": "code",
   "execution_count": 3,
   "metadata": {},
   "outputs": [
    {
     "name": "stdout",
     "output_type": "stream",
     "text": [
      "Average Test AUC\tAverage Validation AUC\tGene Set\t% Time in Top 10\n",
      "\n",
      "73.6666666667\t69.6119674185\tESC_J1_UP_LATE\t1.0\n",
      "67.0\t68.8845655806\tCTIP\t1.0\n",
      "62.71\t68.7328111947\tDCA\t1.0\n",
      "70.28\t68.3939849624\tIL21\t1.0\n",
      "67.66\t67.9114452799\tPTEN\t1.0\n",
      "67.3766666667\t67.2194987469\tCSR_EARLY\t1.0\n",
      "68.0733333333\t67.1273809524\tVEGF_A\t1.0\n",
      "71.8066666667\t67.0253299916\tGCNP_SHH_UP_LATE\t1.0\n",
      "76.1633333333\t66.997786132\tPRC2_SUZ12\t1.0\n",
      "71.59\t66.8538011696\tESC_V6.5_UP_EARLY\t1.0\n"
     ]
    }
   ],
   "source": [
    "lap_auc = []\n",
    "with open(\"multi_lap_top_sets.txt\", \"r\") as c:\n",
    "    for line in c:\n",
    "        tokens = line.split()\n",
    "        gene_set, val_auc, test_auc, top = tokens[0], float(tokens[1]), float(tokens[2]), float(tokens[3])\n",
    "        if top > 0:\n",
    "            lap_auc.append((gene_set, test_auc, val_auc, top))\n",
    "lap_auc.sort(key=lambda x: -x[2])\n",
    "\n",
    "print(\"Average Test AUC\\tAverage Validation AUC\\tGene Set\\t% Time in Top 10\\n\")\n",
    "for gene_set, test_auc, val_auc, top in lap_auc:\n",
    "    print(\"{}\\t{}\\t{}\\t{}\".format(test_auc, val_auc, gene_set, top))"
   ]
  },
  {
   "cell_type": "markdown",
   "metadata": {},
   "source": [
    "## Top Multi-Task Trastuzumab Gene Sets  "
   ]
  },
  {
   "cell_type": "code",
   "execution_count": 4,
   "metadata": {},
   "outputs": [
    {
     "name": "stdout",
     "output_type": "stream",
     "text": [
      "Average Test AUC\tAverage Validation AUC\tGene Set\t% Time in Top 10\n",
      "\n",
      "60.5952380952\t69.6127610693\tESC_J1_UP_LATE\t1.0\n",
      "44.2476190476\t68.7657936508\tCTIP\t0.99\n",
      "70.4285714286\t68.7326900585\tDCA\t1.0\n",
      "60.0\t68.3942021721\tIL21\t1.0\n",
      "70.2380952381\t67.9085004177\tPTEN\t1.0\n",
      "68.0952380952\t67.2166332498\tCSR_EARLY\t1.0\n",
      "66.7857142857\t67.1273809524\tVEGF_A\t1.0\n",
      "67.8386904762\t67.0246073517\tGCNP_SHH_UP_LATE\t1.0\n",
      "62.380952381\t66.9946532999\tPRC2_SUZ12\t1.0\n",
      "62.380952381\t66.8534043442\tESC_V6.5_UP_EARLY\t1.0\n",
      "60.3571428571\t66.267021721\tTGFB\t0.01\n"
     ]
    }
   ],
   "source": [
    "trast_auc = []\n",
    "with open(\"multi_trast_top_sets.txt\", \"r\") as c:\n",
    "    for line in c:\n",
    "        tokens = line.split()\n",
    "        gene_set, val_auc, test_auc, top = tokens[0], float(tokens[1]), float(tokens[2]), float(tokens[3])\n",
    "        if top > 0:\n",
    "            trast_auc.append((gene_set, test_auc, val_auc, top))\n",
    "trast_auc.sort(key=lambda x: -x[2])\n",
    "\n",
    "print(\"Average Test AUC\\tAverage Validation AUC\\tGene Set\\t% Time in Top 10\\n\")\n",
    "for gene_set, test_auc, val_auc, top in trast_auc:\n",
    "    print(\"{}\\t{}\\t{}\\t{}\".format(test_auc, val_auc, gene_set, top))"
   ]
  },
  {
   "cell_type": "code",
   "execution_count": 10,
   "metadata": {},
   "outputs": [],
   "source": [
    "# Find intersection between Top 10 gene sets (trained separately)\n",
    "combo = set()\n",
    "with open(\"combo_top_sets.txt\", \"r\") as f:\n",
    "    for line in f:\n",
    "        tokens = line.split()\n",
    "        gene_set, top = tokens[0], float(tokens[3])\n",
    "        if top > 0.1:\n",
    "            combo.add(gene_set)\n",
    "            \n",
    "lap = set()\n",
    "with open(\"lapatinib_top_sets.txt\", \"r\") as f:\n",
    "    for line in f:\n",
    "        tokens = line.split()\n",
    "        gene_set, top = tokens[0], float(tokens[3])\n",
    "        if top > 0.1:\n",
    "            lap.add(gene_set)\n",
    "            \n",
    "trast = set()\n",
    "with open(\"trastuzumab_top_sets.txt\", \"r\") as f:\n",
    "    for line in f:\n",
    "        tokens = line.split()\n",
    "        gene_set, top = tokens[0], float(tokens[3])\n",
    "        if top > 0.1:\n",
    "            trast.add(gene_set)"
   ]
  },
  {
   "cell_type": "code",
   "execution_count": 11,
   "metadata": {},
   "outputs": [
    {
     "name": "stdout",
     "output_type": "stream",
     "text": [
      "Intersection of Combo and Lapatinib:\n",
      "{'MTOR_UP.N4', 'CYCLIN_D1', 'CYCLIN_D1_KE_', 'E2F1', 'KRAS.300', 'KRAS.600', 'ERB2', 'KRAS.50', 'KRAS.PROSTATE', 'BRCA1', 'CAHOY_OLIGODENDROCUTIC', 'KRAS.BREAST'}\n",
      "\n",
      "Intersection of Combo and Trastuzumab:\n",
      "{'E2F1', 'PRC2_EED', 'ERB2', 'CAHOY_NEURONAL', 'PRC2_SUZ12', 'BRCA1', 'IL21', 'PTEN', 'RAPA_EARLY'}\n",
      "\n",
      "Intersection of all:\n",
      "{'ERB2', 'BRCA1', 'E2F1'}\n"
     ]
    }
   ],
   "source": [
    "print(\"Intersection of Combo and Lapatinib:\")\n",
    "print(combo.intersection(lap))\n",
    "\n",
    "print(\"\\nIntersection of Combo and Trastuzumab:\")\n",
    "print(combo.intersection(trast))\n",
    "\n",
    "print(\"\\nIntersection of all:\")\n",
    "print(combo.intersection(lap, trast))"
   ]
  },
  {
   "cell_type": "code",
   "execution_count": 5,
   "metadata": {},
   "outputs": [],
   "source": [
    "# Find intersection between Top 10 gene sets (from multi-task)\n",
    "multi_combo = set()\n",
    "with open(\"multi_combo_top_sets.txt\", \"r\") as f:\n",
    "    for line in f:\n",
    "        tokens = line.split()\n",
    "        gene_set, top = tokens[0], float(tokens[3])\n",
    "        if top > 0.1:\n",
    "            multi_combo.add(gene_set)\n",
    "            \n",
    "multi_lap = set()\n",
    "with open(\"multi_lap_top_sets.txt\", \"r\") as f:\n",
    "    for line in f:\n",
    "        tokens = line.split()\n",
    "        gene_set, top = tokens[0], float(tokens[3])\n",
    "        if top > 0.1:\n",
    "            multi_lap.add(gene_set)\n",
    "            \n",
    "multi_trast = set()\n",
    "with open(\"multi_trast_top_sets.txt\", \"r\") as f:\n",
    "    for line in f:\n",
    "        tokens = line.split()\n",
    "        gene_set, top = tokens[0], float(tokens[3])\n",
    "        if top > 0.1:\n",
    "            multi_trast.add(gene_set)"
   ]
  },
  {
   "cell_type": "code",
   "execution_count": 6,
   "metadata": {},
   "outputs": [
    {
     "name": "stdout",
     "output_type": "stream",
     "text": [
      "Intersection of Combo and Lapatinib:\n",
      "{'ESC_V6.5_UP_EARLY', 'CSR_EARLY', 'ESC_J1_UP_LATE', 'VEGF_A', 'IL21', 'DCA', 'PTEN', 'PRC2_SUZ12', 'GCNP_SHH_UP_LATE', 'CTIP'}\n",
      "\n",
      "Intersection of Combo and Trastuzumab:\n",
      "{'ESC_V6.5_UP_EARLY', 'CSR_EARLY', 'ESC_J1_UP_LATE', 'VEGF_A', 'IL21', 'DCA', 'PTEN', 'PRC2_SUZ12', 'GCNP_SHH_UP_LATE', 'CTIP'}\n",
      "\n",
      "Intersection of all:\n",
      "{'ESC_V6.5_UP_EARLY', 'CSR_EARLY', 'ESC_J1_UP_LATE', 'VEGF_A', 'IL21', 'DCA', 'PTEN', 'PRC2_SUZ12', 'GCNP_SHH_UP_LATE', 'CTIP'}\n"
     ]
    }
   ],
   "source": [
    "print(\"Intersection of Combo and Lapatinib:\")\n",
    "print(multi_combo.intersection(multi_lap))\n",
    "\n",
    "print(\"\\nIntersection of Combo and Trastuzumab:\")\n",
    "print(multi_combo.intersection(multi_trast))\n",
    "\n",
    "print(\"\\nIntersection of all:\")\n",
    "print(multi_combo.intersection(multi_lap, multi_trast))"
   ]
  },
  {
   "cell_type": "code",
   "execution_count": null,
   "metadata": {},
   "outputs": [],
   "source": []
  }
 ],
 "metadata": {
  "kernelspec": {
   "display_name": "Python 3",
   "language": "python",
   "name": "python3"
  },
  "language_info": {
   "codemirror_mode": {
    "name": "ipython",
    "version": 3
   },
   "file_extension": ".py",
   "mimetype": "text/x-python",
   "name": "python",
   "nbconvert_exporter": "python",
   "pygments_lexer": "ipython3",
   "version": "3.5.4"
  }
 },
 "nbformat": 4,
 "nbformat_minor": 2
}
